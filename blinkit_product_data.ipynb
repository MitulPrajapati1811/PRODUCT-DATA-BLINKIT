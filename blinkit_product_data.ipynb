{
 "cells": [
  {
   "cell_type": "code",
   "execution_count": null,
   "metadata": {},
   "outputs": [],
   "source": [
    "naming = []\n",
    "price = []\n",
    "grams = []\n",
    "delivery = []"
   ]
  },
  {
   "cell_type": "code",
   "execution_count": null,
   "metadata": {},
   "outputs": [],
   "source": [
    "from selenium import webdriver\n",
    "from selenium.webdriver.common.by import By\n",
    "from bs4 import BeautifulSoup\n",
    "driver = webdriver.Chrome()\n",
    "profile_url = \"https://blinkit.com/categories\"\n",
    "driver.get(profile_url)\n",
    "src = driver.page_source\n",
    "soup = BeautifulSoup(src,'html.parser')\n",
    "driver.quit()"
   ]
  },
  {
   "cell_type": "code",
   "execution_count": null,
   "metadata": {},
   "outputs": [],
   "source": [
    "text1 = []\n",
    "link1 = []\n",
    "t = soup.find('div',class_=\"Category__Container-sc-1k4awti-3 hfVSDl\")\n",
    "for i in t.find_all('div'):\n",
    "    link = i.find_all('a')\n",
    "    for j in link:\n",
    "        text1.append(j.text)\n",
    "        link1.append(\"https://blinkit.com\"+j['href'])"
   ]
  },
  {
   "cell_type": "code",
   "execution_count": null,
   "metadata": {},
   "outputs": [],
   "source": [
    "driver = webdriver.Chrome()\n",
    "profile_url = f\"{link1[1]}\"\n",
    "driver.get(profile_url)\n",
    "src = driver.page_source\n",
    "soup1 = BeautifulSoup(src,'html.parser')\n",
    "print(soup1.prettify())\n",
    "driver.quit()"
   ]
  },
  {
   "cell_type": "code",
   "execution_count": null,
   "metadata": {},
   "outputs": [],
   "source": [
    "items = []\n",
    "t1 = soup1.find('div',class_=\"categories__body\")\n",
    "t2 = t1.find('div',class_=\"categories-table\")\n",
    "for i in t2.find('div',class_=\"ProductsContainer__ProductListContainer-sc-1k8vkvc-0 gBBJEb products--grid\"):\n",
    "    t3 = i.find('div',class_=\"Product__UpdatedDetailContainer-sc-11dk8zk-5 oMGUD\")\n",
    "    t4 = t3.find('div',class_=\"Product__UpdatedETAContainer-sc-11dk8zk-6 LikqD\")\n",
    "    t5 = t3.find('div',class_=\"Product__UpdatedTitle-sc-11dk8zk-9 hxWnoO\")\n",
    "    t6 = t3.find('div',class_=\"Product__UpdatedPriceAndAtcContainer-sc-11dk8zk-10 ljxcbQ\")\n",
    "    t7 = t3.find('span',class_=\"bff_variant_text_only plp-product__quantity--box\")\n",
    "    t8 = t6.find(\"div\")\n",
    "    print(t5.text,t8.text,t7.text)"
   ]
  },
  {
   "cell_type": "code",
   "execution_count": null,
   "metadata": {},
   "outputs": [],
   "source": [
    "from selenium.webdriver.chrome.options import Options\n",
    "from selenium.webdriver.support.ui import WebDriverWait\n",
    "from selenium.webdriver.support import expected_conditions as EC\n",
    "import time\n",
    "for i in range(len(link1)):\n",
    "    chrome_options = Options()\n",
    "    chrome_options.add_argument(\"--headless\")\n",
    "    driver = webdriver.Chrome()\n",
    "    driver.maximize_window()\n",
    "    profile_url = f\"{link1[i]}\"\n",
    "    driver.get(profile_url)\n",
    "    time.sleep(3)\n",
    "    try:\n",
    "        modal = WebDriverWait(driver, 10).until(\n",
    "                EC.visibility_of_element_located((By.XPATH, \"//div[contains(@class, 'ReactModal__Overlay ReactModal__Overlay--after-open modal-overlay mobile-overlay__bottomSheet')]\"))\n",
    "            )\n",
    "        modal1 = WebDriverWait(driver, 10).until(\n",
    "            EC.visibility_of_element_located((By.XPATH, \"//div[contains(@class, 'styles__ButtonContainer-sc-ptthzm-8 cCBKAw')]\"))\n",
    "        )\n",
    "        modal1.click()\n",
    "    except Exception as e:\n",
    "        print(\" \")\n",
    "    location_input = WebDriverWait(driver, 10).until(\n",
    "            EC.visibility_of_element_located((By.XPATH, \"//div[contains(@class, 'LocationBar__Container-sc-x8ezho-6')]\"))\n",
    "        )\n",
    "    location_input.click()\n",
    "    time.sleep(3)\n",
    "    location_input1 = driver.find_element(By.XPATH, \"//input[@placeholder='search delivery location']\")\n",
    "    # location_input1.clear()\n",
    "    words = [\"new\",\" delhi\"]\n",
    "    for word in words:\n",
    "        location_input1.send_keys(word)\n",
    "        time.sleep(1)\n",
    "    dropdown = WebDriverWait(driver,10).until(\n",
    "        EC.presence_of_all_elements_located((By.XPATH, \"//div[contains(@class, 'location-addresses-v1')]\"))  \n",
    "    )\n",
    "    first_option = dropdown[0]  \n",
    "    first_option.click()\n",
    "    time.sleep(5)\n",
    "    src = driver.page_source\n",
    "    soup1 = BeautifulSoup(src,'html.parser')\n",
    "    driver.quit()\n",
    "    t1 = soup1.find('div',class_=\"categories__body\")\n",
    "    t2 = t1.find('div',class_=\"categories-table\")\n",
    "    if (t2.find('div',class_=\"ProductsContainer__ProductListContainer-sc-1k8vkvc-0 gBBJEb products--grid\")!= None):\n",
    "        for i in t2.find('div',class_=\"ProductsContainer__ProductListContainer-sc-1k8vkvc-0 gBBJEb products--grid\"):\n",
    "            t3 = i.find('div',class_=\"Product__UpdatedDetailContainer-sc-11dk8zk-5 oMGUD\")\n",
    "            t4 = t3.find('div',class_=\"Product__UpdatedETAContainer-sc-11dk8zk-6 LikqD\")\n",
    "            t5 = t3.find('div',class_=\"Product__UpdatedTitle-sc-11dk8zk-9 hxWnoO\")\n",
    "            t6 = t3.find('div',class_=\"Product__UpdatedPriceAndAtcContainer-sc-11dk8zk-10 ljxcbQ\")\n",
    "            t7 = t3.find('span',class_=\"bff_variant_text_only plp-product__quantity--box\")\n",
    "            t8 = t6.find(\"div\")\n",
    "            t9 = t3.find(\"div\",class_=\"Product__UpdatedETAContainer-sc-11dk8zk-6 LikqD\")\n",
    "            if(t5 != None):\n",
    "                naming.append(t5.text)\n",
    "            else:\n",
    "                naming.append(\" \")\n",
    "            if(t6!= None):\n",
    "                price.append(t8.text)\n",
    "            else:\n",
    "                price.append(\" \")\n",
    "            if(t7 != None):\n",
    "                grams.append(t7.text)\n",
    "            else:\n",
    "                grams.append(\" \")\n",
    "            if(t9 != None):\n",
    "                delivery.append(t9.text)\n",
    "            else:\n",
    "                delivery.append(\" \")\n",
    "            print(t5.text)"
   ]
  },
  {
   "cell_type": "code",
   "execution_count": null,
   "metadata": {},
   "outputs": [],
   "source": [
    "print(len(naming))\n",
    "print(len(price))\n",
    "print(len(grams))\n",
    "print(len(delivery))"
   ]
  },
  {
   "cell_type": "code",
   "execution_count": null,
   "metadata": {},
   "outputs": [],
   "source": [
    "l = price[:]\n",
    "t = []\n",
    "for i in l:\n",
    "    s = i.split(\"₹\")[1]\n",
    "    p = \"₹\" + s\n",
    "    t.append(p)\n",
    "price = t[:]"
   ]
  },
  {
   "cell_type": "code",
   "execution_count": null,
   "metadata": {},
   "outputs": [],
   "source": [
    "import pandas as pd\n",
    "data = {\n",
    "    \"name\":naming,\n",
    "    \"price\" : price,\n",
    "    \"quantity\" : grams,\n",
    "    \"delivery_time\" : delivery\n",
    "}\n",
    "df = pd.DataFrame(data)\n",
    "df"
   ]
  },
  {
   "cell_type": "code",
   "execution_count": null,
   "metadata": {},
   "outputs": [],
   "source": [
    "df.to_excel('blinkit_data_final.xlsx',index=False)"
   ]
  }
 ],
 "metadata": {
  "kernelspec": {
   "display_name": "base",
   "language": "python",
   "name": "python3"
  },
  "language_info": {
   "codemirror_mode": {
    "name": "ipython",
    "version": 3
   },
   "file_extension": ".py",
   "mimetype": "text/x-python",
   "name": "python",
   "nbconvert_exporter": "python",
   "pygments_lexer": "ipython3",
   "version": "3.12.7"
  }
 },
 "nbformat": 4,
 "nbformat_minor": 2
}
